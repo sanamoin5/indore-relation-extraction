{
 "cells": [
  {
   "cell_type": "code",
   "execution_count": 1,
   "id": "8cd27451-1d02-4992-94ec-2250c3ac46de",
   "metadata": {},
   "outputs": [],
   "source": [
    "import pandas as pd\n",
    "import csv\n",
    "from sklearn.metrics import confusion_matrix\n",
    "import matplotlib.pyplot as plt\n",
    "import seaborn as sns\n",
    "from sklearn.metrics import classification_report"
   ]
  },
  {
   "cell_type": "code",
   "execution_count": 2,
   "id": "e9c2df28-e82a-4cc4-a09e-803846ac261e",
   "metadata": {},
   "outputs": [],
   "source": [
    "train = pd.read_csv('data/train.tsv', sep=\"\\t\")"
   ]
  },
  {
   "cell_type": "code",
   "execution_count": 3,
   "id": "15e037bc-84bb-4c72-a74d-adb544c37299",
   "metadata": {},
   "outputs": [],
   "source": [
    "ben =  pd.read_csv('data/bengali_annotated_dump.csv', sep=\",\",names=[\"Relation\", \"Sentence\", \"NER1\", \"NER2\"])\n",
    "en =  pd.read_csv('data/english_annotated_dump.csv', sep=\",\",names=[\"Relation\", \"Sentence\", \"NER1\", \"NER2\"])\n",
    "hin =  pd.read_csv('data/hindi_annotated_dump.csv', sep=\",\",names=[\"Relation\", \"Sentence\", \"NER1\", \"NER2\"])\n",
    "tel =  pd.read_csv('data/telugu_annotated_dump.csv', sep=\",\",names=[\"Relation\", \"Sentence\", \"NER1\", \"NER2\"])\n",
    "val =  pd.read_csv('data/valid.tsv', sep=\"\\t\",names=[\"id\", \"Sentence\", \"NER1\", \"NER2\"])\n",
    "test = pd.read_csv('data/test.tsv', sep=\"\\t\",names=[\"id\", \"Sentence\", \"NER1\", \"NER2\"])\n",
    "en_dump =  pd.read_csv('data/en.tsv', sep=\"\\t\")"
   ]
  },
  {
   "cell_type": "code",
   "execution_count": 4,
   "id": "a2a54700-2821-4d31-8096-5b8e14ebb675",
   "metadata": {},
   "outputs": [
    {
     "data": {
      "text/html": [
       "<div>\n",
       "<style scoped>\n",
       "    .dataframe tbody tr th:only-of-type {\n",
       "        vertical-align: middle;\n",
       "    }\n",
       "\n",
       "    .dataframe tbody tr th {\n",
       "        vertical-align: top;\n",
       "    }\n",
       "\n",
       "    .dataframe thead th {\n",
       "        text-align: right;\n",
       "    }\n",
       "</style>\n",
       "<table border=\"1\" class=\"dataframe\">\n",
       "  <thead>\n",
       "    <tr style=\"text-align: right;\">\n",
       "      <th></th>\n",
       "      <th>id</th>\n",
       "      <th>Sentence</th>\n",
       "      <th>NER1</th>\n",
       "      <th>NER2</th>\n",
       "    </tr>\n",
       "  </thead>\n",
       "  <tbody>\n",
       "    <tr>\n",
       "      <th>0</th>\n",
       "      <td>id-0</td>\n",
       "      <td>খ্রি-মাং-স্লোন-র্ত্সানের মৃত্যুর পরেই ঝাংঝুং র...</td>\n",
       "      <td>PERSON</td>\n",
       "      <td>PERSON</td>\n",
       "    </tr>\n",
       "    <tr>\n",
       "      <th>1</th>\n",
       "      <td>id-1</td>\n",
       "      <td>&lt;e1&gt;John Stanislaus Joyce&lt;/e1&gt; (4 July 1849 – ...</td>\n",
       "      <td>PERSON</td>\n",
       "      <td>PERSON</td>\n",
       "    </tr>\n",
       "  </tbody>\n",
       "</table>\n",
       "</div>"
      ],
      "text/plain": [
       "     id                                           Sentence    NER1    NER2\n",
       "0  id-0  খ্রি-মাং-স্লোন-র্ত্সানের মৃত্যুর পরেই ঝাংঝুং র...  PERSON  PERSON\n",
       "1  id-1  <e1>John Stanislaus Joyce</e1> (4 July 1849 – ...  PERSON  PERSON"
      ]
     },
     "execution_count": 4,
     "metadata": {},
     "output_type": "execute_result"
    }
   ],
   "source": [
    "test.head(2)"
   ]
  },
  {
   "cell_type": "code",
   "execution_count": 5,
   "id": "82fef3ee-aee4-4643-ab46-e53b6ab3c370",
   "metadata": {},
   "outputs": [
    {
     "name": "stdout",
     "output_type": "stream",
     "text": [
      "<class 'pandas.core.frame.DataFrame'>\n",
      "RangeIndex: 3388 entries, 0 to 3387\n",
      "Data columns (total 4 columns):\n",
      " #   Column    Non-Null Count  Dtype \n",
      "---  ------    --------------  ----- \n",
      " 0   id        3388 non-null   object\n",
      " 1   Sentence  3388 non-null   object\n",
      " 2   NER1      3388 non-null   object\n",
      " 3   NER2      3388 non-null   object\n",
      "dtypes: object(4)\n",
      "memory usage: 106.0+ KB\n"
     ]
    }
   ],
   "source": [
    "test.info()"
   ]
  },
  {
   "cell_type": "code",
   "execution_count": 5,
   "id": "bb13786a-d64b-48c6-b86f-52523ca2f75e",
   "metadata": {
    "jupyter": {
     "source_hidden": true
    },
    "tags": []
   },
   "outputs": [
    {
     "data": {
      "text/plain": [
       "10372"
      ]
     },
     "execution_count": 5,
     "metadata": {},
     "output_type": "execute_result"
    }
   ],
   "source": [
    "train.Relation.count()"
   ]
  },
  {
   "cell_type": "code",
   "execution_count": 6,
   "id": "a876a17c-3374-455d-8060-6dbe292632e6",
   "metadata": {
    "jupyter": {
     "source_hidden": true
    },
    "tags": []
   },
   "outputs": [
    {
     "data": {
      "text/plain": [
       "10525"
      ]
     },
     "execution_count": 6,
     "metadata": {},
     "output_type": "execute_result"
    }
   ],
   "source": [
    "ben.Relation.count()"
   ]
  },
  {
   "cell_type": "code",
   "execution_count": 7,
   "id": "35bb9836-188c-49f9-9c97-8b8590c0dcd1",
   "metadata": {
    "jupyter": {
     "source_hidden": true
    },
    "tags": []
   },
   "outputs": [
    {
     "data": {
      "text/plain": [
       "7188"
      ]
     },
     "execution_count": 7,
     "metadata": {},
     "output_type": "execute_result"
    }
   ],
   "source": [
    "en.Relation.count()"
   ]
  },
  {
   "cell_type": "code",
   "execution_count": 8,
   "id": "e35c9b85-0bcb-4316-90f3-7afaac6990cc",
   "metadata": {
    "jupyter": {
     "source_hidden": true
    },
    "tags": []
   },
   "outputs": [
    {
     "data": {
      "text/plain": [
       "19367"
      ]
     },
     "execution_count": 8,
     "metadata": {},
     "output_type": "execute_result"
    }
   ],
   "source": [
    "hin.Relation.count()"
   ]
  },
  {
   "cell_type": "code",
   "execution_count": 9,
   "id": "f332eec6-84b2-475f-9cfd-14a64bce30db",
   "metadata": {
    "jupyter": {
     "source_hidden": true
    },
    "tags": []
   },
   "outputs": [
    {
     "data": {
      "text/plain": [
       "4961"
      ]
     },
     "execution_count": 9,
     "metadata": {},
     "output_type": "execute_result"
    }
   ],
   "source": [
    "tel.Relation.count()"
   ]
  },
  {
   "cell_type": "code",
   "execution_count": 11,
   "id": "d26a8fa2-5f87-45b9-a8ab-f7b3daf88bb5",
   "metadata": {
    "tags": []
   },
   "outputs": [],
   "source": [
    "# val['id-0'].count()"
   ]
  },
  {
   "cell_type": "code",
   "execution_count": 13,
   "id": "4d92cc54-4730-49c3-9cad-73032caf4046",
   "metadata": {
    "tags": []
   },
   "outputs": [],
   "source": [
    "# test['id-0'].count()"
   ]
  },
  {
   "cell_type": "code",
   "execution_count": 14,
   "id": "aeeb6385-65f0-4ed5-a07e-31e8eebbbc5d",
   "metadata": {
    "jupyter": {
     "source_hidden": true
    },
    "tags": []
   },
   "outputs": [
    {
     "data": {
      "text/plain": [
       "3019"
      ]
     },
     "execution_count": 14,
     "metadata": {},
     "output_type": "execute_result"
    }
   ],
   "source": [
    "en_dump.Relation.count()"
   ]
  },
  {
   "cell_type": "code",
   "execution_count": 15,
   "id": "235b8a7e-d390-4471-95f3-7021324f2ce8",
   "metadata": {},
   "outputs": [],
   "source": [
    "ben_d =  pd.read_csv('../downloaded/bengali_indore.tsv', sep=\"\\t\",names=[\"Relation\", \"Sentence\", \"NER1\", \"NER2\"])\n",
    "en_d =  pd.read_csv('../downloaded/english_indore.tsv', sep=\"\\t\",names=[\"Relation\", \"Sentence\", \"NER1\", \"NER2\"])\n",
    "hin_d =  pd.read_csv('../downloaded/hindi_indore.tsv', sep=\"\\t\",names=[\"Relation\", \"Sentence\", \"NER1\", \"NER2\"])\n",
    "tel_d =  pd.read_csv('../downloaded/telugu_indore.tsv', sep=\"\\t\",quoting=csv.QUOTE_NONE, encoding='utf-8',names=[\"Relation\", \"Sentence\", \"NER1\", \"NER2\"])"
   ]
  },
  {
   "cell_type": "code",
   "execution_count": 16,
   "id": "54a55af8-a6c4-4cb5-87fa-737bd6f9701c",
   "metadata": {},
   "outputs": [
    {
     "data": {
      "text/html": [
       "<div>\n",
       "<style scoped>\n",
       "    .dataframe tbody tr th:only-of-type {\n",
       "        vertical-align: middle;\n",
       "    }\n",
       "\n",
       "    .dataframe tbody tr th {\n",
       "        vertical-align: top;\n",
       "    }\n",
       "\n",
       "    .dataframe thead th {\n",
       "        text-align: right;\n",
       "    }\n",
       "</style>\n",
       "<table border=\"1\" class=\"dataframe\">\n",
       "  <thead>\n",
       "    <tr style=\"text-align: right;\">\n",
       "      <th></th>\n",
       "      <th>Relation</th>\n",
       "      <th>Sentence</th>\n",
       "      <th>NER1</th>\n",
       "      <th>NER2</th>\n",
       "    </tr>\n",
       "  </thead>\n",
       "  <tbody>\n",
       "    <tr>\n",
       "      <th>0</th>\n",
       "      <td>producer</td>\n",
       "      <td>పరిశ్రమలో చాలా కాలం తరువాత వస్తున్న మల్టీస్టార...</td>\n",
       "      <td>WORK_OF_ART</td>\n",
       "      <td>PERSON</td>\n",
       "    </tr>\n",
       "    <tr>\n",
       "      <th>1</th>\n",
       "      <td>producer</td>\n",
       "      <td>మొక్కలు నాటిన అనంతరం &lt;e2&gt;దిల్ రాజు&lt;/e2&gt; మహేష్ ...</td>\n",
       "      <td>WORK_OF_ART</td>\n",
       "      <td>PERSON</td>\n",
       "    </tr>\n",
       "    <tr>\n",
       "      <th>2</th>\n",
       "      <td>producer</td>\n",
       "      <td>&lt;e1&gt;సీతమ్మ వాకిట్లో సిరిమల్లె చెట్టు&lt;/e1&gt;' చిత...</td>\n",
       "      <td>WORK_OF_ART</td>\n",
       "      <td>PERSON</td>\n",
       "    </tr>\n",
       "    <tr>\n",
       "      <th>3</th>\n",
       "      <td>producer</td>\n",
       "      <td>‘1996’ లో వచ్చిన ‘&lt;e1&gt;లిటిల్ సోల్జర్స్&lt;/e1&gt;’ చ...</td>\n",
       "      <td>WORK_OF_ART</td>\n",
       "      <td>PERSON</td>\n",
       "    </tr>\n",
       "    <tr>\n",
       "      <th>4</th>\n",
       "      <td>producer</td>\n",
       "      <td>‘&lt;e1&gt;శంకరాభరణం&lt;/e1&gt;’... తెలుగు తెరపై ఓ క్లాసిక...</td>\n",
       "      <td>WORK_OF_ART</td>\n",
       "      <td>PERSON</td>\n",
       "    </tr>\n",
       "  </tbody>\n",
       "</table>\n",
       "</div>"
      ],
      "text/plain": [
       "   Relation                                           Sentence         NER1  \\\n",
       "0  producer  పరిశ్రమలో చాలా కాలం తరువాత వస్తున్న మల్టీస్టార...  WORK_OF_ART   \n",
       "1  producer  మొక్కలు నాటిన అనంతరం <e2>దిల్ రాజు</e2> మహేష్ ...  WORK_OF_ART   \n",
       "2  producer  <e1>సీతమ్మ వాకిట్లో సిరిమల్లె చెట్టు</e1>' చిత...  WORK_OF_ART   \n",
       "3  producer  ‘1996’ లో వచ్చిన ‘<e1>లిటిల్ సోల్జర్స్</e1>’ చ...  WORK_OF_ART   \n",
       "4  producer  ‘<e1>శంకరాభరణం</e1>’... తెలుగు తెరపై ఓ క్లాసిక...  WORK_OF_ART   \n",
       "\n",
       "     NER2  \n",
       "0  PERSON  \n",
       "1  PERSON  \n",
       "2  PERSON  \n",
       "3  PERSON  \n",
       "4  PERSON  "
      ]
     },
     "execution_count": 16,
     "metadata": {},
     "output_type": "execute_result"
    }
   ],
   "source": [
    "tel_d.head()"
   ]
  },
  {
   "cell_type": "code",
   "execution_count": 17,
   "id": "c5f791ef-c2eb-4e9b-af28-531765bad3e8",
   "metadata": {},
   "outputs": [],
   "source": [
    "all_concat_rows = ben_d.append(en_d).append(hin_d).append(tel_d)"
   ]
  },
  {
   "cell_type": "code",
   "execution_count": 18,
   "id": "38271d1d-3be9-4001-b158-816f123250db",
   "metadata": {},
   "outputs": [
    {
     "name": "stdout",
     "output_type": "stream",
     "text": [
      "<class 'pandas.core.frame.DataFrame'>\n",
      "Int64Index: 31768 entries, 0 to 8153\n",
      "Data columns (total 4 columns):\n",
      " #   Column    Non-Null Count  Dtype \n",
      "---  ------    --------------  ----- \n",
      " 0   Relation  31768 non-null  object\n",
      " 1   Sentence  31768 non-null  object\n",
      " 2   NER1      31768 non-null  object\n",
      " 3   NER2      31768 non-null  object\n",
      "dtypes: object(4)\n",
      "memory usage: 1.2+ MB\n"
     ]
    }
   ],
   "source": [
    "all_concat_rows.info()"
   ]
  },
  {
   "cell_type": "code",
   "execution_count": 19,
   "id": "a88bd859-a54a-4eed-93d1-5c8ea657cbc3",
   "metadata": {},
   "outputs": [],
   "source": [
    "# print(ben_d.info())\n",
    "# print(en_d.info())\n",
    "# print(hin_d.info())\n",
    "# print(tel_d.info())"
   ]
  },
  {
   "cell_type": "code",
   "execution_count": 20,
   "id": "70d9d987-2e3d-40da-a2c5-72880ae7a5eb",
   "metadata": {},
   "outputs": [],
   "source": [
    "new_df = test.merge(all_concat_rows, how = 'inner', on = ['Sentence'])"
   ]
  },
  {
   "cell_type": "code",
   "execution_count": 21,
   "id": "392f710d-e18f-47ca-a643-540ea38432fc",
   "metadata": {},
   "outputs": [
    {
     "data": {
      "text/html": [
       "<div>\n",
       "<style scoped>\n",
       "    .dataframe tbody tr th:only-of-type {\n",
       "        vertical-align: middle;\n",
       "    }\n",
       "\n",
       "    .dataframe tbody tr th {\n",
       "        vertical-align: top;\n",
       "    }\n",
       "\n",
       "    .dataframe thead th {\n",
       "        text-align: right;\n",
       "    }\n",
       "</style>\n",
       "<table border=\"1\" class=\"dataframe\">\n",
       "  <thead>\n",
       "    <tr style=\"text-align: right;\">\n",
       "      <th></th>\n",
       "      <th>id</th>\n",
       "      <th>Sentence</th>\n",
       "      <th>NER1_x</th>\n",
       "      <th>NER2_x</th>\n",
       "      <th>Relation</th>\n",
       "      <th>NER1_y</th>\n",
       "      <th>NER2_y</th>\n",
       "    </tr>\n",
       "  </thead>\n",
       "  <tbody>\n",
       "    <tr>\n",
       "      <th>0</th>\n",
       "      <td>id-0</td>\n",
       "      <td>খ্রি-মাং-স্লোন-র্ত্সানের মৃত্যুর পরেই ঝাংঝুং র...</td>\n",
       "      <td>PERSON</td>\n",
       "      <td>PERSON</td>\n",
       "      <td>child</td>\n",
       "      <td>PERSON</td>\n",
       "      <td>PERSON</td>\n",
       "    </tr>\n",
       "    <tr>\n",
       "      <th>1</th>\n",
       "      <td>id-1</td>\n",
       "      <td>&lt;e1&gt;John Stanislaus Joyce&lt;/e1&gt; (4 July 1849 – ...</td>\n",
       "      <td>PERSON</td>\n",
       "      <td>PERSON</td>\n",
       "      <td>child</td>\n",
       "      <td>PERSON</td>\n",
       "      <td>PERSON</td>\n",
       "    </tr>\n",
       "    <tr>\n",
       "      <th>2</th>\n",
       "      <td>id-2</td>\n",
       "      <td>Dulquer Salman Telugu Movie: మలయాళ నటుడు &lt;e1&gt;మ...</td>\n",
       "      <td>PERSON</td>\n",
       "      <td>PERSON</td>\n",
       "      <td>child</td>\n",
       "      <td>PERSON</td>\n",
       "      <td>PERSON</td>\n",
       "    </tr>\n",
       "    <tr>\n",
       "      <th>3</th>\n",
       "      <td>id-3</td>\n",
       "      <td>&lt;e1&gt;Louise Taft&lt;/e1&gt; would give birth to their...</td>\n",
       "      <td>PERSON</td>\n",
       "      <td>PERSON</td>\n",
       "      <td>child</td>\n",
       "      <td>PERSON</td>\n",
       "      <td>PERSON</td>\n",
       "    </tr>\n",
       "    <tr>\n",
       "      <th>4</th>\n",
       "      <td>id-4</td>\n",
       "      <td>(జన్మక్రమాన్ని బట్టి రాముడి తర్వాత భరతుడే. &lt;e1...</td>\n",
       "      <td>PERSON</td>\n",
       "      <td>PERSON</td>\n",
       "      <td>child</td>\n",
       "      <td>PERSON</td>\n",
       "      <td>PERSON</td>\n",
       "    </tr>\n",
       "    <tr>\n",
       "      <th>...</th>\n",
       "      <td>...</td>\n",
       "      <td>...</td>\n",
       "      <td>...</td>\n",
       "      <td>...</td>\n",
       "      <td>...</td>\n",
       "      <td>...</td>\n",
       "      <td>...</td>\n",
       "    </tr>\n",
       "    <tr>\n",
       "      <th>3306</th>\n",
       "      <td>id-3383</td>\n",
       "      <td>এছাড়া তিনি সিলভার লাইনিংস প্লেবুক চলচ্চিত্রের...</td>\n",
       "      <td>PERSON</td>\n",
       "      <td>OTHER</td>\n",
       "      <td>nominated_for</td>\n",
       "      <td>PERSON</td>\n",
       "      <td>OTHER</td>\n",
       "    </tr>\n",
       "    <tr>\n",
       "      <th>3307</th>\n",
       "      <td>id-3384</td>\n",
       "      <td>&lt;e1&gt;Shen Congwen&lt;/e1&gt; was twice nominated for ...</td>\n",
       "      <td>PERSON</td>\n",
       "      <td>OTHER</td>\n",
       "      <td>nominated_for</td>\n",
       "      <td>PERSON</td>\n",
       "      <td>OTHER</td>\n",
       "    </tr>\n",
       "    <tr>\n",
       "      <th>3308</th>\n",
       "      <td>id-3385</td>\n",
       "      <td>He is best known for producing the critically ...</td>\n",
       "      <td>PERSON</td>\n",
       "      <td>OTHER</td>\n",
       "      <td>nominated_for</td>\n",
       "      <td>PERSON</td>\n",
       "      <td>OTHER</td>\n",
       "    </tr>\n",
       "    <tr>\n",
       "      <th>3309</th>\n",
       "      <td>id-3386</td>\n",
       "      <td>&lt;e1&gt;A Clockwork Orange&lt;/e1&gt; was critically acc...</td>\n",
       "      <td>PERSON</td>\n",
       "      <td>OTHER</td>\n",
       "      <td>nominated_for</td>\n",
       "      <td>PERSON</td>\n",
       "      <td>OTHER</td>\n",
       "    </tr>\n",
       "    <tr>\n",
       "      <th>3310</th>\n",
       "      <td>id-3387</td>\n",
       "      <td>डॉ. &lt;e1&gt;सर्वपल्ली राधाकृष्णन&lt;/e1&gt; को एक शिक्षक...</td>\n",
       "      <td>PERSON</td>\n",
       "      <td>OTHER</td>\n",
       "      <td>nominated_for</td>\n",
       "      <td>PERSON</td>\n",
       "      <td>OTHER</td>\n",
       "    </tr>\n",
       "  </tbody>\n",
       "</table>\n",
       "<p>3311 rows × 7 columns</p>\n",
       "</div>"
      ],
      "text/plain": [
       "           id                                           Sentence  NER1_x  \\\n",
       "0        id-0  খ্রি-মাং-স্লোন-র্ত্সানের মৃত্যুর পরেই ঝাংঝুং র...  PERSON   \n",
       "1        id-1  <e1>John Stanislaus Joyce</e1> (4 July 1849 – ...  PERSON   \n",
       "2        id-2  Dulquer Salman Telugu Movie: మలయాళ నటుడు <e1>మ...  PERSON   \n",
       "3        id-3  <e1>Louise Taft</e1> would give birth to their...  PERSON   \n",
       "4        id-4  (జన్మక్రమాన్ని బట్టి రాముడి తర్వాత భరతుడే. <e1...  PERSON   \n",
       "...       ...                                                ...     ...   \n",
       "3306  id-3383  এছাড়া তিনি সিলভার লাইনিংস প্লেবুক চলচ্চিত্রের...  PERSON   \n",
       "3307  id-3384  <e1>Shen Congwen</e1> was twice nominated for ...  PERSON   \n",
       "3308  id-3385  He is best known for producing the critically ...  PERSON   \n",
       "3309  id-3386  <e1>A Clockwork Orange</e1> was critically acc...  PERSON   \n",
       "3310  id-3387  डॉ. <e1>सर्वपल्ली राधाकृष्णन</e1> को एक शिक्षक...  PERSON   \n",
       "\n",
       "      NER2_x       Relation  NER1_y  NER2_y  \n",
       "0     PERSON          child  PERSON  PERSON  \n",
       "1     PERSON          child  PERSON  PERSON  \n",
       "2     PERSON          child  PERSON  PERSON  \n",
       "3     PERSON          child  PERSON  PERSON  \n",
       "4     PERSON          child  PERSON  PERSON  \n",
       "...      ...            ...     ...     ...  \n",
       "3306   OTHER  nominated_for  PERSON   OTHER  \n",
       "3307   OTHER  nominated_for  PERSON   OTHER  \n",
       "3308   OTHER  nominated_for  PERSON   OTHER  \n",
       "3309   OTHER  nominated_for  PERSON   OTHER  \n",
       "3310   OTHER  nominated_for  PERSON   OTHER  \n",
       "\n",
       "[3311 rows x 7 columns]"
      ]
     },
     "execution_count": 21,
     "metadata": {},
     "output_type": "execute_result"
    }
   ],
   "source": [
    "new_df"
   ]
  },
  {
   "cell_type": "code",
   "execution_count": 22,
   "id": "12dc2051-d5cc-441d-9ca4-ca041123fdb8",
   "metadata": {},
   "outputs": [],
   "source": [
    "# new_df.to_csv('test_labels.csv')"
   ]
  },
  {
   "cell_type": "code",
   "execution_count": 23,
   "id": "2602fa4e-3096-4cff-844a-8326c5ae697f",
   "metadata": {},
   "outputs": [
    {
     "name": "stdout",
     "output_type": "stream",
     "text": [
      "<class 'pandas.core.frame.DataFrame'>\n",
      "RangeIndex: 3388 entries, 0 to 3387\n",
      "Data columns (total 4 columns):\n",
      " #   Column    Non-Null Count  Dtype \n",
      "---  ------    --------------  ----- \n",
      " 0   id        3388 non-null   object\n",
      " 1   Sentence  3388 non-null   object\n",
      " 2   NER1      3388 non-null   object\n",
      " 3   NER2      3388 non-null   object\n",
      "dtypes: object(4)\n",
      "memory usage: 106.0+ KB\n"
     ]
    }
   ],
   "source": [
    "test.info()"
   ]
  },
  {
   "cell_type": "code",
   "execution_count": 24,
   "id": "f6e3fb98-5615-40ad-9dc7-ff10198648ee",
   "metadata": {},
   "outputs": [
    {
     "name": "stdout",
     "output_type": "stream",
     "text": [
      "-77\n"
     ]
    }
   ],
   "source": [
    "print(3311-3388)"
   ]
  },
  {
   "cell_type": "code",
   "execution_count": 25,
   "id": "a30345e5-e25f-492c-a0cf-1247df45c74a",
   "metadata": {},
   "outputs": [],
   "source": [
    "actual_test = new_df.copy()\n",
    "actual_test = actual_test.rename({'id': 'Id'}, axis=1)"
   ]
  },
  {
   "cell_type": "code",
   "execution_count": 26,
   "id": "5f9fda77-382c-4d6b-b759-0c02595a1b10",
   "metadata": {},
   "outputs": [
    {
     "data": {
      "text/html": [
       "<div>\n",
       "<style scoped>\n",
       "    .dataframe tbody tr th:only-of-type {\n",
       "        vertical-align: middle;\n",
       "    }\n",
       "\n",
       "    .dataframe tbody tr th {\n",
       "        vertical-align: top;\n",
       "    }\n",
       "\n",
       "    .dataframe thead th {\n",
       "        text-align: right;\n",
       "    }\n",
       "</style>\n",
       "<table border=\"1\" class=\"dataframe\">\n",
       "  <thead>\n",
       "    <tr style=\"text-align: right;\">\n",
       "      <th></th>\n",
       "      <th>Id</th>\n",
       "      <th>Relation</th>\n",
       "    </tr>\n",
       "  </thead>\n",
       "  <tbody>\n",
       "    <tr>\n",
       "      <th>0</th>\n",
       "      <td>id-0</td>\n",
       "      <td>child</td>\n",
       "    </tr>\n",
       "    <tr>\n",
       "      <th>1</th>\n",
       "      <td>id-1</td>\n",
       "      <td>child</td>\n",
       "    </tr>\n",
       "    <tr>\n",
       "      <th>2</th>\n",
       "      <td>id-2</td>\n",
       "      <td>child</td>\n",
       "    </tr>\n",
       "  </tbody>\n",
       "</table>\n",
       "</div>"
      ],
      "text/plain": [
       "     Id Relation\n",
       "0  id-0    child\n",
       "1  id-1    child\n",
       "2  id-2    child"
      ]
     },
     "execution_count": 26,
     "metadata": {},
     "output_type": "execute_result"
    }
   ],
   "source": [
    "res_bert_mask = pd.read_csv('../results/df_bert_all_data_tmasktokens.csv', sep=\",\")\n",
    "res_bert_mask.head(3)"
   ]
  },
  {
   "cell_type": "code",
   "execution_count": 27,
   "id": "b98f676f-45e8-4a8b-ba97-3bee31626fd9",
   "metadata": {},
   "outputs": [
    {
     "name": "stdout",
     "output_type": "stream",
     "text": [
      "<class 'pandas.core.frame.DataFrame'>\n",
      "Int64Index: 3311 entries, 0 to 3310\n",
      "Data columns (total 7 columns):\n",
      " #   Column    Non-Null Count  Dtype \n",
      "---  ------    --------------  ----- \n",
      " 0   Id        3311 non-null   object\n",
      " 1   Sentence  3311 non-null   object\n",
      " 2   NER1_x    3311 non-null   object\n",
      " 3   NER2_x    3311 non-null   object\n",
      " 4   Relation  3311 non-null   object\n",
      " 5   NER1_y    3311 non-null   object\n",
      " 6   NER2_y    3311 non-null   object\n",
      "dtypes: object(7)\n",
      "memory usage: 206.9+ KB\n"
     ]
    }
   ],
   "source": [
    "actual_test.info()"
   ]
  },
  {
   "cell_type": "code",
   "execution_count": 28,
   "id": "ef9774f4-65aa-4929-a05c-69a0a1f2e7a6",
   "metadata": {},
   "outputs": [
    {
     "name": "stdout",
     "output_type": "stream",
     "text": [
      "<class 'pandas.core.frame.DataFrame'>\n",
      "RangeIndex: 3388 entries, 0 to 3387\n",
      "Data columns (total 2 columns):\n",
      " #   Column    Non-Null Count  Dtype \n",
      "---  ------    --------------  ----- \n",
      " 0   Id        3388 non-null   object\n",
      " 1   Relation  3388 non-null   object\n",
      "dtypes: object(2)\n",
      "memory usage: 53.1+ KB\n"
     ]
    }
   ],
   "source": [
    "res_bert_mask.info()"
   ]
  },
  {
   "cell_type": "code",
   "execution_count": 29,
   "id": "e324fca1-66dc-4bfe-93aa-a7f81d6f8e71",
   "metadata": {},
   "outputs": [],
   "source": [
    "df_res_bert_mask = res_bert_mask.merge(actual_test, how = 'inner', on = ['Id'])"
   ]
  },
  {
   "cell_type": "code",
   "execution_count": 30,
   "id": "a0708fa1-cfa1-432c-a658-f823c9986385",
   "metadata": {},
   "outputs": [
    {
     "name": "stdout",
     "output_type": "stream",
     "text": [
      "<class 'pandas.core.frame.DataFrame'>\n",
      "Int64Index: 3311 entries, 0 to 3310\n",
      "Data columns (total 8 columns):\n",
      " #   Column      Non-Null Count  Dtype \n",
      "---  ------      --------------  ----- \n",
      " 0   Id          3311 non-null   object\n",
      " 1   Relation_x  3311 non-null   object\n",
      " 2   Sentence    3311 non-null   object\n",
      " 3   NER1_x      3311 non-null   object\n",
      " 4   NER2_x      3311 non-null   object\n",
      " 5   Relation_y  3311 non-null   object\n",
      " 6   NER1_y      3311 non-null   object\n",
      " 7   NER2_y      3311 non-null   object\n",
      "dtypes: object(8)\n",
      "memory usage: 232.8+ KB\n"
     ]
    }
   ],
   "source": [
    "df_res_bert_mask.info()"
   ]
  },
  {
   "cell_type": "code",
   "execution_count": 31,
   "id": "a8fcf0b4-df8f-436e-b742-19d30b367938",
   "metadata": {},
   "outputs": [
    {
     "data": {
      "text/html": [
       "<div>\n",
       "<style scoped>\n",
       "    .dataframe tbody tr th:only-of-type {\n",
       "        vertical-align: middle;\n",
       "    }\n",
       "\n",
       "    .dataframe tbody tr th {\n",
       "        vertical-align: top;\n",
       "    }\n",
       "\n",
       "    .dataframe thead th {\n",
       "        text-align: right;\n",
       "    }\n",
       "</style>\n",
       "<table border=\"1\" class=\"dataframe\">\n",
       "  <thead>\n",
       "    <tr style=\"text-align: right;\">\n",
       "      <th></th>\n",
       "      <th>Id</th>\n",
       "      <th>Relation_x</th>\n",
       "      <th>Sentence</th>\n",
       "      <th>NER1_x</th>\n",
       "      <th>NER2_x</th>\n",
       "      <th>Relation_y</th>\n",
       "      <th>NER1_y</th>\n",
       "      <th>NER2_y</th>\n",
       "    </tr>\n",
       "  </thead>\n",
       "  <tbody>\n",
       "    <tr>\n",
       "      <th>0</th>\n",
       "      <td>id-0</td>\n",
       "      <td>child</td>\n",
       "      <td>খ্রি-মাং-স্লোন-র্ত্সানের মৃত্যুর পরেই ঝাংঝুং র...</td>\n",
       "      <td>PERSON</td>\n",
       "      <td>PERSON</td>\n",
       "      <td>child</td>\n",
       "      <td>PERSON</td>\n",
       "      <td>PERSON</td>\n",
       "    </tr>\n",
       "    <tr>\n",
       "      <th>1</th>\n",
       "      <td>id-1</td>\n",
       "      <td>child</td>\n",
       "      <td>&lt;e1&gt;John Stanislaus Joyce&lt;/e1&gt; (4 July 1849 – ...</td>\n",
       "      <td>PERSON</td>\n",
       "      <td>PERSON</td>\n",
       "      <td>child</td>\n",
       "      <td>PERSON</td>\n",
       "      <td>PERSON</td>\n",
       "    </tr>\n",
       "    <tr>\n",
       "      <th>2</th>\n",
       "      <td>id-2</td>\n",
       "      <td>child</td>\n",
       "      <td>Dulquer Salman Telugu Movie: మలయాళ నటుడు &lt;e1&gt;మ...</td>\n",
       "      <td>PERSON</td>\n",
       "      <td>PERSON</td>\n",
       "      <td>child</td>\n",
       "      <td>PERSON</td>\n",
       "      <td>PERSON</td>\n",
       "    </tr>\n",
       "    <tr>\n",
       "      <th>3</th>\n",
       "      <td>id-3</td>\n",
       "      <td>child</td>\n",
       "      <td>&lt;e1&gt;Louise Taft&lt;/e1&gt; would give birth to their...</td>\n",
       "      <td>PERSON</td>\n",
       "      <td>PERSON</td>\n",
       "      <td>child</td>\n",
       "      <td>PERSON</td>\n",
       "      <td>PERSON</td>\n",
       "    </tr>\n",
       "    <tr>\n",
       "      <th>4</th>\n",
       "      <td>id-4</td>\n",
       "      <td>spouse</td>\n",
       "      <td>(జన్మక్రమాన్ని బట్టి రాముడి తర్వాత భరతుడే. &lt;e1...</td>\n",
       "      <td>PERSON</td>\n",
       "      <td>PERSON</td>\n",
       "      <td>child</td>\n",
       "      <td>PERSON</td>\n",
       "      <td>PERSON</td>\n",
       "    </tr>\n",
       "  </tbody>\n",
       "</table>\n",
       "</div>"
      ],
      "text/plain": [
       "     Id Relation_x                                           Sentence  NER1_x  \\\n",
       "0  id-0      child  খ্রি-মাং-স্লোন-র্ত্সানের মৃত্যুর পরেই ঝাংঝুং র...  PERSON   \n",
       "1  id-1      child  <e1>John Stanislaus Joyce</e1> (4 July 1849 – ...  PERSON   \n",
       "2  id-2      child  Dulquer Salman Telugu Movie: మలయాళ నటుడు <e1>మ...  PERSON   \n",
       "3  id-3      child  <e1>Louise Taft</e1> would give birth to their...  PERSON   \n",
       "4  id-4     spouse  (జన్మక్రమాన్ని బట్టి రాముడి తర్వాత భరతుడే. <e1...  PERSON   \n",
       "\n",
       "   NER2_x Relation_y  NER1_y  NER2_y  \n",
       "0  PERSON      child  PERSON  PERSON  \n",
       "1  PERSON      child  PERSON  PERSON  \n",
       "2  PERSON      child  PERSON  PERSON  \n",
       "3  PERSON      child  PERSON  PERSON  \n",
       "4  PERSON      child  PERSON  PERSON  "
      ]
     },
     "execution_count": 31,
     "metadata": {},
     "output_type": "execute_result"
    }
   ],
   "source": [
    "df_res_bert_mask.head()"
   ]
  },
  {
   "cell_type": "code",
   "execution_count": 32,
   "id": "689fc546-679a-43e4-a5a4-96e9f30e333e",
   "metadata": {},
   "outputs": [
    {
     "name": "stdout",
     "output_type": "stream",
     "text": [
      "                                      precision    recall  f1-score   support\n",
      "\n",
      "                      award_received       0.97      0.97      0.97       219\n",
      "                             capital       0.97      0.98      0.98       105\n",
      "                          capital_of       0.97      0.96      0.97        81\n",
      "                               child       0.87      0.88      0.88       223\n",
      "                            director       1.00      1.00      1.00       315\n",
      "              discoverer_or_inventor       0.99      0.99      0.99        99\n",
      "                            employer       1.00      0.97      0.99       143\n",
      "                              father       0.90      0.81      0.85       213\n",
      "                          founded_by       0.95      0.99      0.97        90\n",
      "                              mother       0.81      0.85      0.83       142\n",
      "                       nominated_for       0.89      0.81      0.85        21\n",
      "                          occupation       0.84      0.92      0.88       124\n",
      "original_language_of_film_or_TV_show       1.00      1.00      1.00       135\n",
      "                 parent_organization       0.92      0.95      0.93       131\n",
      "                         participant       1.00      1.00      1.00        99\n",
      "                      place_of_birth       1.00      0.98      0.99        64\n",
      "                      place_of_death       0.98      0.98      0.98        48\n",
      "                       position_held       0.93      0.88      0.90       161\n",
      "                             sibling       0.88      0.93      0.91       130\n",
      "                               sport       0.99      0.98      0.98       194\n",
      "                              spouse       0.93      0.93      0.93       228\n",
      "                          student_of       0.92      1.00      0.96        58\n",
      "                          subsidiary       0.93      0.89      0.91       102\n",
      "                           tributary       1.00      1.00      1.00        97\n",
      "                              winner       0.99      1.00      0.99        89\n",
      "\n",
      "                            accuracy                           0.94      3311\n",
      "                           macro avg       0.95      0.95      0.95      3311\n",
      "                        weighted avg       0.94      0.94      0.94      3311\n",
      "\n"
     ]
    }
   ],
   "source": [
    "print(classification_report(df_res_bert_mask['Relation_x'], df_res_bert_mask['Relation_y'],))"
   ]
  },
  {
   "cell_type": "code",
   "execution_count": 33,
   "id": "f1ee6b98-1596-462a-a3d6-50ea996f51e8",
   "metadata": {},
   "outputs": [],
   "source": [
    "def get_cr(pred_file, res_df):\n",
    "    res_bert = pd.read_csv(pred_file, sep=\",\")\n",
    "    df_res_bert = res_bert.merge(res_df, how = 'inner', on = ['Id'])\n",
    "    cr = classification_report(df_res_bert['Relation_x'], df_res_bert['Relation_y'], digits=5)\n",
    "    # print(cr)\n",
    "    return cr"
   ]
  },
  {
   "cell_type": "code",
   "execution_count": 34,
   "id": "63c290ac-3990-42ab-8aba-0d0f49aacd57",
   "metadata": {},
   "outputs": [
    {
     "name": "stdout",
     "output_type": "stream",
     "text": [
      "                                      precision    recall  f1-score   support\n",
      "\n",
      "                      award_received    0.96818   0.97260   0.97039       219\n",
      "                             capital    0.97170   0.98095   0.97630       105\n",
      "                          capital_of    0.97500   0.96296   0.96894        81\n",
      "                               child    0.87168   0.88341   0.87751       223\n",
      "                            director    1.00000   1.00000   1.00000       315\n",
      "              discoverer_or_inventor    0.98990   0.98990   0.98990        99\n",
      "                            employer    1.00000   0.97203   0.98582       143\n",
      "                              father    0.89637   0.81221   0.85222       213\n",
      "                          founded_by    0.94681   0.98889   0.96739        90\n",
      "                              mother    0.81208   0.85211   0.83162       142\n",
      "                       nominated_for    0.89474   0.80952   0.85000        21\n",
      "                          occupation    0.83824   0.91935   0.87692       124\n",
      "original_language_of_film_or_TV_show    1.00000   1.00000   1.00000       135\n",
      "                 parent_organization    0.91852   0.94656   0.93233       131\n",
      "                         participant    1.00000   1.00000   1.00000        99\n",
      "                      place_of_birth    1.00000   0.98438   0.99213        64\n",
      "                      place_of_death    0.97917   0.97917   0.97917        48\n",
      "                       position_held    0.92763   0.87578   0.90096       161\n",
      "                             sibling    0.88321   0.93077   0.90637       130\n",
      "                               sport    0.98958   0.97938   0.98446       194\n",
      "                              spouse    0.93363   0.92544   0.92952       228\n",
      "                          student_of    0.92063   1.00000   0.95868        58\n",
      "                          subsidiary    0.92857   0.89216   0.91000       102\n",
      "                           tributary    1.00000   1.00000   1.00000        97\n",
      "                              winner    0.98889   1.00000   0.99441        89\n",
      "\n",
      "                            accuracy                        0.94322      3311\n",
      "                           macro avg    0.94538   0.94630   0.94540      3311\n",
      "                        weighted avg    0.94384   0.94322   0.94315      3311\n",
      "\n"
     ]
    }
   ],
   "source": [
    "print(get_cr('../results/df_bert_all_data_tmasktokens.csv', actual_test))"
   ]
  },
  {
   "cell_type": "code",
   "execution_count": 35,
   "id": "14c71752-2348-4040-af6a-70905ce2c0e1",
   "metadata": {},
   "outputs": [
    {
     "name": "stdout",
     "output_type": "stream",
     "text": [
      "                                      precision    recall  f1-score   support\n",
      "\n",
      "                      award_received    0.91818   0.98537   0.95059       205\n",
      "                             capital    0.97170   0.97170   0.97170       106\n",
      "                          capital_of    0.97500   0.97500   0.97500        80\n",
      "                               child    0.84956   0.89720   0.87273       214\n",
      "                            director    1.00000   0.99369   0.99684       317\n",
      "              discoverer_or_inventor    0.97980   0.98980   0.98477        98\n",
      "                            employer    0.99281   0.96503   0.97872       143\n",
      "                              father    0.88083   0.84577   0.86294       201\n",
      "                          founded_by    0.94681   0.89899   0.92228        99\n",
      "                              mother    0.86577   0.90210   0.88356       143\n",
      "                       nominated_for    0.84211   0.47059   0.60377        34\n",
      "                          occupation    0.99265   0.99265   0.99265       136\n",
      "original_language_of_film_or_TV_show    1.00000   1.00000   1.00000       135\n",
      "                 parent_organization    0.91852   0.91176   0.91513       136\n",
      "                         participant    0.97980   0.98980   0.98477        98\n",
      "                      place_of_birth    0.95238   0.95238   0.95238        63\n",
      "                      place_of_death    0.95833   0.92000   0.93878        50\n",
      "                       position_held    0.95395   0.99315   0.97315       146\n",
      "                             sibling    0.84672   0.87879   0.86245       132\n",
      "                               sport    1.00000   1.00000   1.00000       192\n",
      "                              spouse    0.94690   0.88430   0.91453       242\n",
      "                          student_of    0.95238   0.95238   0.95238        63\n",
      "                          subsidiary    0.85714   0.93333   0.89362        90\n",
      "                           tributary    1.00000   1.00000   1.00000        97\n",
      "                              winner    1.00000   0.98901   0.99448        91\n",
      "\n",
      "                            accuracy                        0.94352      3311\n",
      "                           macro avg    0.94325   0.93171   0.93509      3311\n",
      "                        weighted avg    0.94395   0.94352   0.94286      3311\n",
      "\n"
     ]
    }
   ],
   "source": [
    "print(get_cr('../results/Latest_Classifiers_Weights_Submission.csv', actual_test))"
   ]
  },
  {
   "cell_type": "markdown",
   "id": "ffb7f9f2-91c6-4b4b-975c-56c42f2e7cbb",
   "metadata": {},
   "source": [
    "### BERT with tokens vs ROBERTa without tokens- best variation comparison"
   ]
  },
  {
   "cell_type": "code",
   "execution_count": 36,
   "id": "63a3f9f5-5077-4184-be12-f3f54c6a2e15",
   "metadata": {},
   "outputs": [
    {
     "name": "stdout",
     "output_type": "stream",
     "text": [
      "                                      precision    recall  f1-score   support\n",
      "\n",
      "                      award_received    0.88636   0.97990   0.93079       199\n",
      "                             capital    0.96226   0.99029   0.97608       103\n",
      "                          capital_of    0.98750   0.96341   0.97531        82\n",
      "                               child    0.91593   0.94091   0.92825       220\n",
      "                            director    0.99683   0.99367   0.99525       316\n",
      "              discoverer_or_inventor    0.95960   0.98958   0.97436        96\n",
      "                            employer    0.99281   1.00000   0.99639       138\n",
      "                              father    0.94819   0.91500   0.93130       200\n",
      "                          founded_by    0.95745   0.90909   0.93264        99\n",
      "                              mother    0.93289   0.91447   0.92359       152\n",
      "                       nominated_for    0.78947   0.38462   0.51724        39\n",
      "                          occupation    1.00000   0.99270   0.99634       137\n",
      "original_language_of_film_or_TV_show    1.00000   1.00000   1.00000       135\n",
      "                 parent_organization    0.96296   0.91549   0.93863       142\n",
      "                         participant    0.96970   1.00000   0.98462        96\n",
      "                      place_of_birth    0.98413   0.96875   0.97638        64\n",
      "                      place_of_death    0.95833   0.95833   0.95833        48\n",
      "                       position_held    0.98684   1.00000   0.99338       150\n",
      "                             sibling    0.88321   0.93077   0.90637       130\n",
      "                               sport    1.00000   1.00000   1.00000       192\n",
      "                              spouse    0.95575   0.93913   0.94737       230\n",
      "                          student_of    1.00000   1.00000   1.00000        63\n",
      "                          subsidiary    0.89796   0.94624   0.92147        93\n",
      "                           tributary    1.00000   1.00000   1.00000        97\n",
      "                              winner    0.98889   0.98889   0.98889        90\n",
      "\n",
      "                            accuracy                        0.95983      3311\n",
      "                           macro avg    0.95668   0.94485   0.94772      3311\n",
      "                        weighted avg    0.95956   0.95983   0.95858      3311\n",
      "\n"
     ]
    }
   ],
   "source": [
    "# 95.779%\n",
    "print(get_cr('../results/df_bert_all_data_train_test.csv', actual_test))"
   ]
  },
  {
   "cell_type": "code",
   "execution_count": 37,
   "id": "b4dfb441-c2b3-4d4d-9513-5152b182dda9",
   "metadata": {},
   "outputs": [
    {
     "name": "stdout",
     "output_type": "stream",
     "text": [
      "                                      precision    recall  f1-score   support\n",
      "\n",
      "                      award_received    0.98182   0.98182   0.98182       220\n",
      "                             capital    0.98113   0.98113   0.98113       106\n",
      "                          capital_of    0.97500   0.98734   0.98113        79\n",
      "                               child    0.90708   0.96244   0.93394       213\n",
      "                            director    0.99365   0.99051   0.99208       316\n",
      "              discoverer_or_inventor    0.96970   0.98969   0.97959        97\n",
      "                            employer    0.99281   0.97183   0.98221       142\n",
      "                              father    0.96891   0.89474   0.93035       209\n",
      "                          founded_by    0.96809   0.88350   0.92386       103\n",
      "                              mother    0.93289   0.93919   0.93603       148\n",
      "                       nominated_for    0.78947   0.78947   0.78947        19\n",
      "                          occupation    1.00000   0.99270   0.99634       137\n",
      "original_language_of_film_or_TV_show    1.00000   1.00000   1.00000       135\n",
      "                 parent_organization    0.92593   0.94697   0.93633       132\n",
      "                         participant    0.97980   1.00000   0.98980        97\n",
      "                      place_of_birth    0.98413   0.96875   0.97638        64\n",
      "                      place_of_death    0.97917   0.95918   0.96907        49\n",
      "                       position_held    0.96053   0.99320   0.97659       147\n",
      "                             sibling    0.92701   0.92701   0.92701       137\n",
      "                               sport    1.00000   1.00000   1.00000       192\n",
      "                              spouse    0.94248   0.94667   0.94457       225\n",
      "                          student_of    0.95238   1.00000   0.97561        60\n",
      "                          subsidiary    0.91837   0.90909   0.91371        99\n",
      "                           tributary    1.00000   1.00000   1.00000        97\n",
      "                              winner    0.97778   1.00000   0.98876        88\n",
      "\n",
      "                            accuracy                        0.96557      3311\n",
      "                           macro avg    0.96032   0.96061   0.96023      3311\n",
      "                        weighted avg    0.96591   0.96557   0.96549      3311\n",
      "\n"
     ]
    }
   ],
   "source": [
    "# 96.546%\n",
    "print(get_cr('../results/Roberta_Without_Tokens-3.csv', actual_test))"
   ]
  },
  {
   "cell_type": "markdown",
   "id": "43fe8dd8-3fc7-4f19-8212-6914e428976f",
   "metadata": {},
   "source": [
    "### BERT with masking vs BERT with tokens- Masking"
   ]
  },
  {
   "cell_type": "code",
   "execution_count": 38,
   "id": "31ba062f-267d-4f3f-9e92-45956886a41c",
   "metadata": {},
   "outputs": [
    {
     "name": "stdout",
     "output_type": "stream",
     "text": [
      "                                      precision    recall  f1-score   support\n",
      "\n",
      "                      award_received    0.96818   0.97260   0.97039       219\n",
      "                             capital    0.97170   0.98095   0.97630       105\n",
      "                          capital_of    0.97500   0.96296   0.96894        81\n",
      "                               child    0.87168   0.88341   0.87751       223\n",
      "                            director    1.00000   1.00000   1.00000       315\n",
      "              discoverer_or_inventor    0.98990   0.98990   0.98990        99\n",
      "                            employer    1.00000   0.97203   0.98582       143\n",
      "                              father    0.89637   0.81221   0.85222       213\n",
      "                          founded_by    0.94681   0.98889   0.96739        90\n",
      "                              mother    0.81208   0.85211   0.83162       142\n",
      "                       nominated_for    0.89474   0.80952   0.85000        21\n",
      "                          occupation    0.83824   0.91935   0.87692       124\n",
      "original_language_of_film_or_TV_show    1.00000   1.00000   1.00000       135\n",
      "                 parent_organization    0.91852   0.94656   0.93233       131\n",
      "                         participant    1.00000   1.00000   1.00000        99\n",
      "                      place_of_birth    1.00000   0.98438   0.99213        64\n",
      "                      place_of_death    0.97917   0.97917   0.97917        48\n",
      "                       position_held    0.92763   0.87578   0.90096       161\n",
      "                             sibling    0.88321   0.93077   0.90637       130\n",
      "                               sport    0.98958   0.97938   0.98446       194\n",
      "                              spouse    0.93363   0.92544   0.92952       228\n",
      "                          student_of    0.92063   1.00000   0.95868        58\n",
      "                          subsidiary    0.92857   0.89216   0.91000       102\n",
      "                           tributary    1.00000   1.00000   1.00000        97\n",
      "                              winner    0.98889   1.00000   0.99441        89\n",
      "\n",
      "                            accuracy                        0.94322      3311\n",
      "                           macro avg    0.94538   0.94630   0.94540      3311\n",
      "                        weighted avg    0.94384   0.94322   0.94315      3311\n",
      "\n"
     ]
    }
   ],
   "source": [
    "# 94.037%\n",
    "print(get_cr('../results/df_bert_all_data_tmasktokens.csv', actual_test))"
   ]
  },
  {
   "cell_type": "code",
   "execution_count": 39,
   "id": "f93d5f77-475b-423a-818f-96b51668867b",
   "metadata": {},
   "outputs": [
    {
     "name": "stdout",
     "output_type": "stream",
     "text": [
      "                                      precision    recall  f1-score   support\n",
      "\n",
      "                      award_received    0.88636   0.97990   0.93079       199\n",
      "                             capital    0.96226   0.99029   0.97608       103\n",
      "                          capital_of    0.98750   0.96341   0.97531        82\n",
      "                               child    0.91593   0.94091   0.92825       220\n",
      "                            director    0.99683   0.99367   0.99525       316\n",
      "              discoverer_or_inventor    0.95960   0.98958   0.97436        96\n",
      "                            employer    0.99281   1.00000   0.99639       138\n",
      "                              father    0.94819   0.91500   0.93130       200\n",
      "                          founded_by    0.95745   0.90909   0.93264        99\n",
      "                              mother    0.93289   0.91447   0.92359       152\n",
      "                       nominated_for    0.78947   0.38462   0.51724        39\n",
      "                          occupation    1.00000   0.99270   0.99634       137\n",
      "original_language_of_film_or_TV_show    1.00000   1.00000   1.00000       135\n",
      "                 parent_organization    0.96296   0.91549   0.93863       142\n",
      "                         participant    0.96970   1.00000   0.98462        96\n",
      "                      place_of_birth    0.98413   0.96875   0.97638        64\n",
      "                      place_of_death    0.95833   0.95833   0.95833        48\n",
      "                       position_held    0.98684   1.00000   0.99338       150\n",
      "                             sibling    0.88321   0.93077   0.90637       130\n",
      "                               sport    1.00000   1.00000   1.00000       192\n",
      "                              spouse    0.95575   0.93913   0.94737       230\n",
      "                          student_of    1.00000   1.00000   1.00000        63\n",
      "                          subsidiary    0.89796   0.94624   0.92147        93\n",
      "                           tributary    1.00000   1.00000   1.00000        97\n",
      "                              winner    0.98889   0.98889   0.98889        90\n",
      "\n",
      "                            accuracy                        0.95983      3311\n",
      "                           macro avg    0.95668   0.94485   0.94772      3311\n",
      "                        weighted avg    0.95956   0.95983   0.95858      3311\n",
      "\n"
     ]
    }
   ],
   "source": [
    "# 95.779%\n",
    "print(get_cr('../results/df_bert_all_data_train_test.csv', actual_test))"
   ]
  },
  {
   "cell_type": "markdown",
   "id": "229a7b66-7549-4c9d-a9fc-955ee2bf056f",
   "metadata": {},
   "source": [
    "### RoBERTa with class weight imb focal loss vs RoBERTa without tokens- class weight imbalance and focal loss"
   ]
  },
  {
   "cell_type": "code",
   "execution_count": 40,
   "id": "b80a03c3-8d07-445b-9446-b7d0eac95b94",
   "metadata": {},
   "outputs": [
    {
     "name": "stdout",
     "output_type": "stream",
     "text": [
      "                                      precision    recall  f1-score   support\n",
      "\n",
      "                      award_received    0.91818   0.98537   0.95059       205\n",
      "                             capital    0.97170   0.97170   0.97170       106\n",
      "                          capital_of    0.97500   0.97500   0.97500        80\n",
      "                               child    0.84956   0.89720   0.87273       214\n",
      "                            director    1.00000   0.99369   0.99684       317\n",
      "              discoverer_or_inventor    0.97980   0.98980   0.98477        98\n",
      "                            employer    0.99281   0.96503   0.97872       143\n",
      "                              father    0.88083   0.84577   0.86294       201\n",
      "                          founded_by    0.94681   0.89899   0.92228        99\n",
      "                              mother    0.86577   0.90210   0.88356       143\n",
      "                       nominated_for    0.84211   0.47059   0.60377        34\n",
      "                          occupation    0.99265   0.99265   0.99265       136\n",
      "original_language_of_film_or_TV_show    1.00000   1.00000   1.00000       135\n",
      "                 parent_organization    0.91852   0.91176   0.91513       136\n",
      "                         participant    0.97980   0.98980   0.98477        98\n",
      "                      place_of_birth    0.95238   0.95238   0.95238        63\n",
      "                      place_of_death    0.95833   0.92000   0.93878        50\n",
      "                       position_held    0.95395   0.99315   0.97315       146\n",
      "                             sibling    0.84672   0.87879   0.86245       132\n",
      "                               sport    1.00000   1.00000   1.00000       192\n",
      "                              spouse    0.94690   0.88430   0.91453       242\n",
      "                          student_of    0.95238   0.95238   0.95238        63\n",
      "                          subsidiary    0.85714   0.93333   0.89362        90\n",
      "                           tributary    1.00000   1.00000   1.00000        97\n",
      "                              winner    1.00000   0.98901   0.99448        91\n",
      "\n",
      "                            accuracy                        0.94352      3311\n",
      "                           macro avg    0.94325   0.93171   0.93509      3311\n",
      "                        weighted avg    0.94395   0.94352   0.94286      3311\n",
      "\n"
     ]
    }
   ],
   "source": [
    "# 94.244%\n",
    "print(get_cr('../results/Latest_Classifiers_Weights_Submission.csv', actual_test))"
   ]
  },
  {
   "cell_type": "code",
   "execution_count": 41,
   "id": "aa7a172c-7e7b-44d8-8fcb-a7762b32555d",
   "metadata": {},
   "outputs": [
    {
     "name": "stdout",
     "output_type": "stream",
     "text": [
      "                                      precision    recall  f1-score   support\n",
      "\n",
      "                      award_received    0.98182   0.98182   0.98182       220\n",
      "                             capital    0.98113   0.98113   0.98113       106\n",
      "                          capital_of    0.97500   0.98734   0.98113        79\n",
      "                               child    0.90708   0.96244   0.93394       213\n",
      "                            director    0.99365   0.99051   0.99208       316\n",
      "              discoverer_or_inventor    0.96970   0.98969   0.97959        97\n",
      "                            employer    0.99281   0.97183   0.98221       142\n",
      "                              father    0.96891   0.89474   0.93035       209\n",
      "                          founded_by    0.96809   0.88350   0.92386       103\n",
      "                              mother    0.93289   0.93919   0.93603       148\n",
      "                       nominated_for    0.78947   0.78947   0.78947        19\n",
      "                          occupation    1.00000   0.99270   0.99634       137\n",
      "original_language_of_film_or_TV_show    1.00000   1.00000   1.00000       135\n",
      "                 parent_organization    0.92593   0.94697   0.93633       132\n",
      "                         participant    0.97980   1.00000   0.98980        97\n",
      "                      place_of_birth    0.98413   0.96875   0.97638        64\n",
      "                      place_of_death    0.97917   0.95918   0.96907        49\n",
      "                       position_held    0.96053   0.99320   0.97659       147\n",
      "                             sibling    0.92701   0.92701   0.92701       137\n",
      "                               sport    1.00000   1.00000   1.00000       192\n",
      "                              spouse    0.94248   0.94667   0.94457       225\n",
      "                          student_of    0.95238   1.00000   0.97561        60\n",
      "                          subsidiary    0.91837   0.90909   0.91371        99\n",
      "                           tributary    1.00000   1.00000   1.00000        97\n",
      "                              winner    0.97778   1.00000   0.98876        88\n",
      "\n",
      "                            accuracy                        0.96557      3311\n",
      "                           macro avg    0.96032   0.96061   0.96023      3311\n",
      "                        weighted avg    0.96591   0.96557   0.96549      3311\n",
      "\n"
     ]
    }
   ],
   "source": [
    "# 96.546%\n",
    "print(get_cr('../results/Roberta_Without_Tokens-3.csv', actual_test))"
   ]
  },
  {
   "cell_type": "markdown",
   "id": "bae03fee-cbe2-4c08-a9e3-682d26bd9d5d",
   "metadata": {},
   "source": [
    "### BERT with duplication and with tokens- duplication"
   ]
  },
  {
   "cell_type": "code",
   "execution_count": 43,
   "id": "eb669214-4bfe-490d-9047-4beb28be4ef9",
   "metadata": {},
   "outputs": [
    {
     "name": "stdout",
     "output_type": "stream",
     "text": [
      "                                      precision    recall  f1-score   support\n",
      "\n",
      "                      award_received    0.87727   0.98469   0.92788       196\n",
      "                             capital    0.98113   0.99048   0.98578       105\n",
      "                          capital_of    0.98750   0.97531   0.98137        81\n",
      "                               child    0.92920   0.94595   0.93750       222\n",
      "                            director    1.00000   1.00000   1.00000       315\n",
      "              discoverer_or_inventor    0.98990   0.98990   0.98990        99\n",
      "                            employer    1.00000   0.99286   0.99642       140\n",
      "                              father    0.93782   0.91878   0.92821       197\n",
      "                          founded_by    0.97872   0.98925   0.98396        93\n",
      "                              mother    0.93289   0.93919   0.93603       148\n",
      "                       nominated_for    0.84211   0.38095   0.52459        42\n",
      "                          occupation    1.00000   0.98551   0.99270       138\n",
      "original_language_of_film_or_TV_show    1.00000   1.00000   1.00000       135\n",
      "                 parent_organization    0.94815   0.92754   0.93773       138\n",
      "                         participant    1.00000   1.00000   1.00000        99\n",
      "                      place_of_birth    0.96825   0.98387   0.97600        62\n",
      "                      place_of_death    0.97917   0.95918   0.96907        49\n",
      "                       position_held    0.98684   1.00000   0.99338       150\n",
      "                             sibling    0.87591   0.96000   0.91603       125\n",
      "                               sport    1.00000   0.99482   0.99740       193\n",
      "                              spouse    0.96903   0.92017   0.94397       238\n",
      "                          student_of    1.00000   0.98438   0.99213        64\n",
      "                          subsidiary    0.89796   0.92632   0.91192        95\n",
      "                           tributary    1.00000   1.00000   1.00000        97\n",
      "                              winner    1.00000   1.00000   1.00000        90\n",
      "\n",
      "                            accuracy                        0.96376      3311\n",
      "                           macro avg    0.96327   0.94997   0.95288      3311\n",
      "                        weighted avg    0.96398   0.96376   0.96243      3311\n",
      "\n"
     ]
    }
   ],
   "source": [
    "# 96.221%\n",
    "print(get_cr('../results/df_bert_all_data_train_test_token_dups_extratokens_new.csv', actual_test))"
   ]
  },
  {
   "cell_type": "code",
   "execution_count": 42,
   "id": "5df310d1-67d9-4fdf-aa34-f61d8c46a54a",
   "metadata": {},
   "outputs": [
    {
     "name": "stdout",
     "output_type": "stream",
     "text": [
      "                                      precision    recall  f1-score   support\n",
      "\n",
      "                      award_received    0.88636   0.97990   0.93079       199\n",
      "                             capital    0.96226   0.99029   0.97608       103\n",
      "                          capital_of    0.98750   0.96341   0.97531        82\n",
      "                               child    0.91593   0.94091   0.92825       220\n",
      "                            director    0.99683   0.99367   0.99525       316\n",
      "              discoverer_or_inventor    0.95960   0.98958   0.97436        96\n",
      "                            employer    0.99281   1.00000   0.99639       138\n",
      "                              father    0.94819   0.91500   0.93130       200\n",
      "                          founded_by    0.95745   0.90909   0.93264        99\n",
      "                              mother    0.93289   0.91447   0.92359       152\n",
      "                       nominated_for    0.78947   0.38462   0.51724        39\n",
      "                          occupation    1.00000   0.99270   0.99634       137\n",
      "original_language_of_film_or_TV_show    1.00000   1.00000   1.00000       135\n",
      "                 parent_organization    0.96296   0.91549   0.93863       142\n",
      "                         participant    0.96970   1.00000   0.98462        96\n",
      "                      place_of_birth    0.98413   0.96875   0.97638        64\n",
      "                      place_of_death    0.95833   0.95833   0.95833        48\n",
      "                       position_held    0.98684   1.00000   0.99338       150\n",
      "                             sibling    0.88321   0.93077   0.90637       130\n",
      "                               sport    1.00000   1.00000   1.00000       192\n",
      "                              spouse    0.95575   0.93913   0.94737       230\n",
      "                          student_of    1.00000   1.00000   1.00000        63\n",
      "                          subsidiary    0.89796   0.94624   0.92147        93\n",
      "                           tributary    1.00000   1.00000   1.00000        97\n",
      "                              winner    0.98889   0.98889   0.98889        90\n",
      "\n",
      "                            accuracy                        0.95983      3311\n",
      "                           macro avg    0.95668   0.94485   0.94772      3311\n",
      "                        weighted avg    0.95956   0.95983   0.95858      3311\n",
      "\n"
     ]
    }
   ],
   "source": [
    "# 95.779%\n",
    "print(get_cr('../results/df_bert_all_data_train_test.csv', actual_test))"
   ]
  },
  {
   "cell_type": "markdown",
   "id": "7eb1349e-7a8e-499e-9275-9679a50448e0",
   "metadata": {},
   "source": [
    "### Roberta with dups"
   ]
  },
  {
   "cell_type": "code",
   "execution_count": 44,
   "id": "8fe7c35f-cbf1-4469-80b4-96a9952e4147",
   "metadata": {},
   "outputs": [
    {
     "name": "stdout",
     "output_type": "stream",
     "text": [
      "                                      precision    recall  f1-score   support\n",
      "\n",
      "                      award_received    0.95000   0.99052   0.96984       211\n",
      "                             capital    0.98113   0.98113   0.98113       106\n",
      "                          capital_of    0.97500   0.98734   0.98113        79\n",
      "                               child    0.92478   0.96313   0.94357       217\n",
      "                            director    0.99048   0.99363   0.99205       314\n",
      "              discoverer_or_inventor    1.00000   0.98020   0.99000       101\n",
      "                            employer    0.98561   0.98561   0.98561       139\n",
      "                              father    0.97927   0.90431   0.94030       209\n",
      "                          founded_by    0.94681   0.87255   0.90816       102\n",
      "                              mother    0.91946   0.95804   0.93836       143\n",
      "                       nominated_for    0.89474   0.60714   0.72340        28\n",
      "                          occupation    1.00000   0.99270   0.99634       137\n",
      "original_language_of_film_or_TV_show    1.00000   1.00000   1.00000       135\n",
      "                 parent_organization    0.94074   0.93382   0.93727       136\n",
      "                         participant    0.96970   0.98969   0.97959        97\n",
      "                      place_of_birth    0.96825   0.96825   0.96825        63\n",
      "                      place_of_death    0.97917   0.95918   0.96907        49\n",
      "                       position_held    0.98684   0.99338   0.99010       151\n",
      "                             sibling    0.92701   0.94776   0.93727       134\n",
      "                               sport    1.00000   1.00000   1.00000       192\n",
      "                              spouse    0.93805   0.93392   0.93598       227\n",
      "                          student_of    0.95238   0.98361   0.96774        61\n",
      "                          subsidiary    0.87755   0.93478   0.90526        92\n",
      "                           tributary    1.00000   1.00000   1.00000        97\n",
      "                              winner    1.00000   0.98901   0.99448        91\n",
      "\n",
      "                            accuracy                        0.96527      3311\n",
      "                           macro avg    0.96348   0.95399   0.95740      3311\n",
      "                        weighted avg    0.96555   0.96527   0.96492      3311\n",
      "\n"
     ]
    }
   ],
   "source": [
    "\n",
    "print(get_cr('../results/roberta_withdups.csv', actual_test))"
   ]
  },
  {
   "cell_type": "markdown",
   "id": "df474d58-5bd6-4e6e-b723-ad383883f1e4",
   "metadata": {},
   "source": [
    "### BERT wihtout tokens"
   ]
  },
  {
   "cell_type": "code",
   "execution_count": 45,
   "id": "5c4f33a7-16ad-4912-8f2b-b6320f4517ac",
   "metadata": {},
   "outputs": [
    {
     "name": "stdout",
     "output_type": "stream",
     "text": [
      "                                      precision    recall  f1-score   support\n",
      "\n",
      "                      award_received    0.81818   0.98361   0.89330       183\n",
      "                             capital    0.98113   0.97196   0.97653       107\n",
      "                          capital_of    0.97500   0.98734   0.98113        79\n",
      "                               child    0.91593   0.82470   0.86792       251\n",
      "                            director    0.99683   0.98433   0.99054       319\n",
      "              discoverer_or_inventor    0.96970   0.97959   0.97462        98\n",
      "                            employer    0.97122   0.98540   0.97826       137\n",
      "                              father    0.78238   0.91515   0.84358       165\n",
      "                          founded_by    0.92553   0.89691   0.91099        97\n",
      "                              mother    0.75839   0.94167   0.84015       120\n",
      "                       nominated_for    0.84211   0.30189   0.44444        53\n",
      "                          occupation    0.98529   0.99259   0.98893       135\n",
      "original_language_of_film_or_TV_show    1.00000   1.00000   1.00000       135\n",
      "                 parent_organization    0.94815   0.96241   0.95522       133\n",
      "                         participant    0.97980   0.98980   0.98477        98\n",
      "                      place_of_birth    0.90476   0.98276   0.94215        58\n",
      "                      place_of_death    0.97917   0.92157   0.94949        51\n",
      "                       position_held    0.98026   0.97386   0.97705       153\n",
      "                             sibling    0.87591   0.79470   0.83333       151\n",
      "                               sport    1.00000   0.99482   0.99740       193\n",
      "                              spouse    0.93363   0.87190   0.90171       242\n",
      "                          student_of    0.95238   0.92308   0.93750        65\n",
      "                          subsidiary    0.93878   0.92000   0.92929       100\n",
      "                           tributary    1.00000   1.00000   1.00000        97\n",
      "                              winner    1.00000   0.98901   0.99448        91\n",
      "\n",
      "                            accuracy                        0.93325      3311\n",
      "                           macro avg    0.93658   0.92356   0.92371      3311\n",
      "                        weighted avg    0.93619   0.93325   0.93123      3311\n",
      "\n"
     ]
    }
   ],
   "source": [
    "print(get_cr('../results/df_bert_all_data_train_test_notoken.csv', actual_test))"
   ]
  },
  {
   "cell_type": "code",
   "execution_count": 52,
   "id": "4482f4ef-3d38-452a-be3f-38c3a469d9dc",
   "metadata": {},
   "outputs": [
    {
     "data": {
      "text/html": [
       "<div>\n",
       "<style scoped>\n",
       "    .dataframe tbody tr th:only-of-type {\n",
       "        vertical-align: middle;\n",
       "    }\n",
       "\n",
       "    .dataframe tbody tr th {\n",
       "        vertical-align: top;\n",
       "    }\n",
       "\n",
       "    .dataframe thead th {\n",
       "        text-align: right;\n",
       "    }\n",
       "</style>\n",
       "<table border=\"1\" class=\"dataframe\">\n",
       "  <thead>\n",
       "    <tr style=\"text-align: right;\">\n",
       "      <th></th>\n",
       "      <th>Id</th>\n",
       "      <th>Relation_x</th>\n",
       "      <th>Sentence</th>\n",
       "      <th>NER1_x</th>\n",
       "      <th>NER2_x</th>\n",
       "      <th>Relation_y</th>\n",
       "      <th>NER1_y</th>\n",
       "      <th>NER2_y</th>\n",
       "    </tr>\n",
       "  </thead>\n",
       "  <tbody>\n",
       "    <tr>\n",
       "      <th>0</th>\n",
       "      <td>id-0</td>\n",
       "      <td>child</td>\n",
       "      <td>খ্রি-মাং-স্লোন-র্ত্সানের মৃত্যুর পরেই ঝাংঝুং র...</td>\n",
       "      <td>PERSON</td>\n",
       "      <td>PERSON</td>\n",
       "      <td>child</td>\n",
       "      <td>PERSON</td>\n",
       "      <td>PERSON</td>\n",
       "    </tr>\n",
       "    <tr>\n",
       "      <th>1</th>\n",
       "      <td>id-1</td>\n",
       "      <td>child</td>\n",
       "      <td>&lt;e1&gt;John Stanislaus Joyce&lt;/e1&gt; (4 July 1849 – ...</td>\n",
       "      <td>PERSON</td>\n",
       "      <td>PERSON</td>\n",
       "      <td>child</td>\n",
       "      <td>PERSON</td>\n",
       "      <td>PERSON</td>\n",
       "    </tr>\n",
       "    <tr>\n",
       "      <th>2</th>\n",
       "      <td>id-2</td>\n",
       "      <td>child</td>\n",
       "      <td>Dulquer Salman Telugu Movie: మలయాళ నటుడు &lt;e1&gt;మ...</td>\n",
       "      <td>PERSON</td>\n",
       "      <td>PERSON</td>\n",
       "      <td>child</td>\n",
       "      <td>PERSON</td>\n",
       "      <td>PERSON</td>\n",
       "    </tr>\n",
       "    <tr>\n",
       "      <th>3</th>\n",
       "      <td>id-3</td>\n",
       "      <td>child</td>\n",
       "      <td>&lt;e1&gt;Louise Taft&lt;/e1&gt; would give birth to their...</td>\n",
       "      <td>PERSON</td>\n",
       "      <td>PERSON</td>\n",
       "      <td>child</td>\n",
       "      <td>PERSON</td>\n",
       "      <td>PERSON</td>\n",
       "    </tr>\n",
       "    <tr>\n",
       "      <th>4</th>\n",
       "      <td>id-4</td>\n",
       "      <td>child</td>\n",
       "      <td>(జన్మక్రమాన్ని బట్టి రాముడి తర్వాత భరతుడే. &lt;e1...</td>\n",
       "      <td>PERSON</td>\n",
       "      <td>PERSON</td>\n",
       "      <td>child</td>\n",
       "      <td>PERSON</td>\n",
       "      <td>PERSON</td>\n",
       "    </tr>\n",
       "  </tbody>\n",
       "</table>\n",
       "</div>"
      ],
      "text/plain": [
       "     Id Relation_x                                           Sentence  NER1_x  \\\n",
       "0  id-0      child  খ্রি-মাং-স্লোন-র্ত্সানের মৃত্যুর পরেই ঝাংঝুং র...  PERSON   \n",
       "1  id-1      child  <e1>John Stanislaus Joyce</e1> (4 July 1849 – ...  PERSON   \n",
       "2  id-2      child  Dulquer Salman Telugu Movie: మలయాళ నటుడు <e1>మ...  PERSON   \n",
       "3  id-3      child  <e1>Louise Taft</e1> would give birth to their...  PERSON   \n",
       "4  id-4      child  (జన్మక్రమాన్ని బట్టి రాముడి తర్వాత భరతుడే. <e1...  PERSON   \n",
       "\n",
       "   NER2_x Relation_y  NER1_y  NER2_y  \n",
       "0  PERSON      child  PERSON  PERSON  \n",
       "1  PERSON      child  PERSON  PERSON  \n",
       "2  PERSON      child  PERSON  PERSON  \n",
       "3  PERSON      child  PERSON  PERSON  \n",
       "4  PERSON      child  PERSON  PERSON  "
      ]
     },
     "execution_count": 52,
     "metadata": {},
     "output_type": "execute_result"
    }
   ],
   "source": [
    "df_res_bert.head()"
   ]
  },
  {
   "cell_type": "code",
   "execution_count": 64,
   "id": "75feaf23-b9b1-4ab5-b45c-260cb990a7d4",
   "metadata": {},
   "outputs": [
    {
     "data": {
      "text/html": [
       "<div>\n",
       "<style scoped>\n",
       "    .dataframe tbody tr th:only-of-type {\n",
       "        vertical-align: middle;\n",
       "    }\n",
       "\n",
       "    .dataframe tbody tr th {\n",
       "        vertical-align: top;\n",
       "    }\n",
       "\n",
       "    .dataframe thead th {\n",
       "        text-align: right;\n",
       "    }\n",
       "</style>\n",
       "<table border=\"1\" class=\"dataframe\">\n",
       "  <thead>\n",
       "    <tr style=\"text-align: right;\">\n",
       "      <th></th>\n",
       "      <th>Id</th>\n",
       "      <th>Relation</th>\n",
       "    </tr>\n",
       "  </thead>\n",
       "  <tbody>\n",
       "    <tr>\n",
       "      <th>0</th>\n",
       "      <td>id-0</td>\n",
       "      <td>child</td>\n",
       "    </tr>\n",
       "    <tr>\n",
       "      <th>1</th>\n",
       "      <td>id-1</td>\n",
       "      <td>child</td>\n",
       "    </tr>\n",
       "    <tr>\n",
       "      <th>2</th>\n",
       "      <td>id-2</td>\n",
       "      <td>child</td>\n",
       "    </tr>\n",
       "    <tr>\n",
       "      <th>3</th>\n",
       "      <td>id-3</td>\n",
       "      <td>child</td>\n",
       "    </tr>\n",
       "    <tr>\n",
       "      <th>4</th>\n",
       "      <td>id-4</td>\n",
       "      <td>child</td>\n",
       "    </tr>\n",
       "  </tbody>\n",
       "</table>\n",
       "</div>"
      ],
      "text/plain": [
       "     Id Relation\n",
       "0  id-0    child\n",
       "1  id-1    child\n",
       "2  id-2    child\n",
       "3  id-3    child\n",
       "4  id-4    child"
      ]
     },
     "execution_count": 64,
     "metadata": {},
     "output_type": "execute_result"
    }
   ],
   "source": [
    "res_bert.head()"
   ]
  },
  {
   "cell_type": "code",
   "execution_count": 48,
   "id": "52f2f753-42be-45d2-a746-504c36b99269",
   "metadata": {},
   "outputs": [],
   "source": [
    "res_bert = pd.read_csv('../results/Latest_Classifiers_Weights_Submission.csv', sep=\",\")\n",
    "df_res_bert = res_bert.merge(actual_test, how = 'inner', on = ['Id'])\n"
   ]
  },
  {
   "cell_type": "code",
   "execution_count": 60,
   "id": "645d941a-9402-4cd3-9708-1d87f270e2e7",
   "metadata": {},
   "outputs": [
    {
     "data": {
      "text/plain": [
       "34"
      ]
     },
     "execution_count": 60,
     "metadata": {},
     "output_type": "execute_result"
    }
   ],
   "source": [
    "# from sklearn.metrics import accuracy_score\n",
    "# score = res_bert['id']\n",
    "df_res_bert[df_res_bert['Relation_x']=='nominated_for']['Id'].count()"
   ]
  },
  {
   "cell_type": "code",
   "execution_count": 65,
   "id": "6d62b758-c942-445c-bb58-039b753c66a5",
   "metadata": {},
   "outputs": [
    {
     "ename": "ValueError",
     "evalue": "Can only compare identically-labeled Series objects",
     "output_type": "error",
     "traceback": [
      "\u001b[0;31m---------------------------------------------------------------------------\u001b[0m",
      "\u001b[0;31mValueError\u001b[0m                                Traceback (most recent call last)",
      "\u001b[0;32m/tmp/ipykernel_132614/2357209989.py\u001b[0m in \u001b[0;36m<module>\u001b[0;34m\u001b[0m\n\u001b[0;32m----> 1\u001b[0;31m \u001b[0mres_bert\u001b[0m\u001b[0;34m[\u001b[0m\u001b[0mres_bert\u001b[0m\u001b[0;34m[\u001b[0m\u001b[0;34m'Id'\u001b[0m\u001b[0;34m]\u001b[0m\u001b[0;34m==\u001b[0m\u001b[0mdf_res_bert\u001b[0m\u001b[0;34m[\u001b[0m\u001b[0mdf_res_bert\u001b[0m\u001b[0;34m[\u001b[0m\u001b[0;34m'Relation_x'\u001b[0m\u001b[0;34m]\u001b[0m\u001b[0;34m==\u001b[0m\u001b[0;34m'nominated_for'\u001b[0m\u001b[0;34m]\u001b[0m\u001b[0;34m[\u001b[0m\u001b[0;34m'Id'\u001b[0m\u001b[0;34m]\u001b[0m\u001b[0;34m]\u001b[0m\u001b[0;34m[\u001b[0m\u001b[0;34m'Id'\u001b[0m\u001b[0;34m]\u001b[0m\u001b[0;34m.\u001b[0m\u001b[0mcount\u001b[0m\u001b[0;34m(\u001b[0m\u001b[0;34m)\u001b[0m\u001b[0;34m\u001b[0m\u001b[0;34m\u001b[0m\u001b[0m\n\u001b[0m",
      "\u001b[0;32m/usr/local/lib/python3.8/dist-packages/pandas/core/ops/common.py\u001b[0m in \u001b[0;36mnew_method\u001b[0;34m(self, other)\u001b[0m\n\u001b[1;32m     63\u001b[0m         \u001b[0mother\u001b[0m \u001b[0;34m=\u001b[0m \u001b[0mitem_from_zerodim\u001b[0m\u001b[0;34m(\u001b[0m\u001b[0mother\u001b[0m\u001b[0;34m)\u001b[0m\u001b[0;34m\u001b[0m\u001b[0;34m\u001b[0m\u001b[0m\n\u001b[1;32m     64\u001b[0m \u001b[0;34m\u001b[0m\u001b[0m\n\u001b[0;32m---> 65\u001b[0;31m         \u001b[0;32mreturn\u001b[0m \u001b[0mmethod\u001b[0m\u001b[0;34m(\u001b[0m\u001b[0mself\u001b[0m\u001b[0;34m,\u001b[0m \u001b[0mother\u001b[0m\u001b[0;34m)\u001b[0m\u001b[0;34m\u001b[0m\u001b[0;34m\u001b[0m\u001b[0m\n\u001b[0m\u001b[1;32m     66\u001b[0m \u001b[0;34m\u001b[0m\u001b[0m\n\u001b[1;32m     67\u001b[0m     \u001b[0;32mreturn\u001b[0m \u001b[0mnew_method\u001b[0m\u001b[0;34m\u001b[0m\u001b[0;34m\u001b[0m\u001b[0m\n",
      "\u001b[0;32m/usr/local/lib/python3.8/dist-packages/pandas/core/arraylike.py\u001b[0m in \u001b[0;36m__eq__\u001b[0;34m(self, other)\u001b[0m\n\u001b[1;32m     27\u001b[0m     \u001b[0;34m@\u001b[0m\u001b[0munpack_zerodim_and_defer\u001b[0m\u001b[0;34m(\u001b[0m\u001b[0;34m\"__eq__\"\u001b[0m\u001b[0;34m)\u001b[0m\u001b[0;34m\u001b[0m\u001b[0;34m\u001b[0m\u001b[0m\n\u001b[1;32m     28\u001b[0m     \u001b[0;32mdef\u001b[0m \u001b[0m__eq__\u001b[0m\u001b[0;34m(\u001b[0m\u001b[0mself\u001b[0m\u001b[0;34m,\u001b[0m \u001b[0mother\u001b[0m\u001b[0;34m)\u001b[0m\u001b[0;34m:\u001b[0m\u001b[0;34m\u001b[0m\u001b[0;34m\u001b[0m\u001b[0m\n\u001b[0;32m---> 29\u001b[0;31m         \u001b[0;32mreturn\u001b[0m \u001b[0mself\u001b[0m\u001b[0;34m.\u001b[0m\u001b[0m_cmp_method\u001b[0m\u001b[0;34m(\u001b[0m\u001b[0mother\u001b[0m\u001b[0;34m,\u001b[0m \u001b[0moperator\u001b[0m\u001b[0;34m.\u001b[0m\u001b[0meq\u001b[0m\u001b[0;34m)\u001b[0m\u001b[0;34m\u001b[0m\u001b[0;34m\u001b[0m\u001b[0m\n\u001b[0m\u001b[1;32m     30\u001b[0m \u001b[0;34m\u001b[0m\u001b[0m\n\u001b[1;32m     31\u001b[0m     \u001b[0;34m@\u001b[0m\u001b[0munpack_zerodim_and_defer\u001b[0m\u001b[0;34m(\u001b[0m\u001b[0;34m\"__ne__\"\u001b[0m\u001b[0;34m)\u001b[0m\u001b[0;34m\u001b[0m\u001b[0;34m\u001b[0m\u001b[0m\n",
      "\u001b[0;32m/usr/local/lib/python3.8/dist-packages/pandas/core/series.py\u001b[0m in \u001b[0;36m_cmp_method\u001b[0;34m(self, other, op)\u001b[0m\n\u001b[1;32m   4941\u001b[0m \u001b[0;34m\u001b[0m\u001b[0m\n\u001b[1;32m   4942\u001b[0m         \u001b[0;32mif\u001b[0m \u001b[0misinstance\u001b[0m\u001b[0;34m(\u001b[0m\u001b[0mother\u001b[0m\u001b[0;34m,\u001b[0m \u001b[0mSeries\u001b[0m\u001b[0;34m)\u001b[0m \u001b[0;32mand\u001b[0m \u001b[0;32mnot\u001b[0m \u001b[0mself\u001b[0m\u001b[0;34m.\u001b[0m\u001b[0m_indexed_same\u001b[0m\u001b[0;34m(\u001b[0m\u001b[0mother\u001b[0m\u001b[0;34m)\u001b[0m\u001b[0;34m:\u001b[0m\u001b[0;34m\u001b[0m\u001b[0;34m\u001b[0m\u001b[0m\n\u001b[0;32m-> 4943\u001b[0;31m             \u001b[0;32mraise\u001b[0m \u001b[0mValueError\u001b[0m\u001b[0;34m(\u001b[0m\u001b[0;34m\"Can only compare identically-labeled Series objects\"\u001b[0m\u001b[0;34m)\u001b[0m\u001b[0;34m\u001b[0m\u001b[0;34m\u001b[0m\u001b[0m\n\u001b[0m\u001b[1;32m   4944\u001b[0m \u001b[0;34m\u001b[0m\u001b[0m\n\u001b[1;32m   4945\u001b[0m         \u001b[0mlvalues\u001b[0m \u001b[0;34m=\u001b[0m \u001b[0mextract_array\u001b[0m\u001b[0;34m(\u001b[0m\u001b[0mself\u001b[0m\u001b[0;34m,\u001b[0m \u001b[0mextract_numpy\u001b[0m\u001b[0;34m=\u001b[0m\u001b[0;32mTrue\u001b[0m\u001b[0;34m)\u001b[0m\u001b[0;34m\u001b[0m\u001b[0;34m\u001b[0m\u001b[0m\n",
      "\u001b[0;31mValueError\u001b[0m: Can only compare identically-labeled Series objects"
     ]
    }
   ],
   "source": [
    "res_bert[res_bert['Id']==df_res_bert[df_res_bert['Relation_x']=='nominated_for']['Id']]['Id'].count()"
   ]
  },
  {
   "cell_type": "code",
   "execution_count": 56,
   "id": "e010a3c7-0421-4a1b-b289-ebd54b194ed5",
   "metadata": {},
   "outputs": [
    {
     "data": {
      "text/html": [
       "<div>\n",
       "<style scoped>\n",
       "    .dataframe tbody tr th:only-of-type {\n",
       "        vertical-align: middle;\n",
       "    }\n",
       "\n",
       "    .dataframe tbody tr th {\n",
       "        vertical-align: top;\n",
       "    }\n",
       "\n",
       "    .dataframe thead th {\n",
       "        text-align: right;\n",
       "    }\n",
       "</style>\n",
       "<table border=\"1\" class=\"dataframe\">\n",
       "  <thead>\n",
       "    <tr style=\"text-align: right;\">\n",
       "      <th></th>\n",
       "      <th>Id</th>\n",
       "      <th>Relation_x</th>\n",
       "      <th>Sentence</th>\n",
       "      <th>NER1_x</th>\n",
       "      <th>NER2_x</th>\n",
       "      <th>Relation_y</th>\n",
       "      <th>NER1_y</th>\n",
       "      <th>NER2_y</th>\n",
       "    </tr>\n",
       "  </thead>\n",
       "  <tbody>\n",
       "    <tr>\n",
       "      <th>0</th>\n",
       "      <td>id-0</td>\n",
       "      <td>child</td>\n",
       "      <td>খ্রি-মাং-স্লোন-র্ত্সানের মৃত্যুর পরেই ঝাংঝুং র...</td>\n",
       "      <td>PERSON</td>\n",
       "      <td>PERSON</td>\n",
       "      <td>child</td>\n",
       "      <td>PERSON</td>\n",
       "      <td>PERSON</td>\n",
       "    </tr>\n",
       "    <tr>\n",
       "      <th>1</th>\n",
       "      <td>id-1</td>\n",
       "      <td>child</td>\n",
       "      <td>&lt;e1&gt;John Stanislaus Joyce&lt;/e1&gt; (4 July 1849 – ...</td>\n",
       "      <td>PERSON</td>\n",
       "      <td>PERSON</td>\n",
       "      <td>child</td>\n",
       "      <td>PERSON</td>\n",
       "      <td>PERSON</td>\n",
       "    </tr>\n",
       "    <tr>\n",
       "      <th>2</th>\n",
       "      <td>id-2</td>\n",
       "      <td>child</td>\n",
       "      <td>Dulquer Salman Telugu Movie: మలయాళ నటుడు &lt;e1&gt;మ...</td>\n",
       "      <td>PERSON</td>\n",
       "      <td>PERSON</td>\n",
       "      <td>child</td>\n",
       "      <td>PERSON</td>\n",
       "      <td>PERSON</td>\n",
       "    </tr>\n",
       "    <tr>\n",
       "      <th>3</th>\n",
       "      <td>id-3</td>\n",
       "      <td>child</td>\n",
       "      <td>&lt;e1&gt;Louise Taft&lt;/e1&gt; would give birth to their...</td>\n",
       "      <td>PERSON</td>\n",
       "      <td>PERSON</td>\n",
       "      <td>child</td>\n",
       "      <td>PERSON</td>\n",
       "      <td>PERSON</td>\n",
       "    </tr>\n",
       "    <tr>\n",
       "      <th>4</th>\n",
       "      <td>id-4</td>\n",
       "      <td>child</td>\n",
       "      <td>(జన్మక్రమాన్ని బట్టి రాముడి తర్వాత భరతుడే. &lt;e1...</td>\n",
       "      <td>PERSON</td>\n",
       "      <td>PERSON</td>\n",
       "      <td>child</td>\n",
       "      <td>PERSON</td>\n",
       "      <td>PERSON</td>\n",
       "    </tr>\n",
       "    <tr>\n",
       "      <th>...</th>\n",
       "      <td>...</td>\n",
       "      <td>...</td>\n",
       "      <td>...</td>\n",
       "      <td>...</td>\n",
       "      <td>...</td>\n",
       "      <td>...</td>\n",
       "      <td>...</td>\n",
       "      <td>...</td>\n",
       "    </tr>\n",
       "    <tr>\n",
       "      <th>3306</th>\n",
       "      <td>id-3383</td>\n",
       "      <td>nominated_for</td>\n",
       "      <td>এছাড়া তিনি সিলভার লাইনিংস প্লেবুক চলচ্চিত্রের...</td>\n",
       "      <td>PERSON</td>\n",
       "      <td>OTHER</td>\n",
       "      <td>nominated_for</td>\n",
       "      <td>PERSON</td>\n",
       "      <td>OTHER</td>\n",
       "    </tr>\n",
       "    <tr>\n",
       "      <th>3307</th>\n",
       "      <td>id-3384</td>\n",
       "      <td>nominated_for</td>\n",
       "      <td>&lt;e1&gt;Shen Congwen&lt;/e1&gt; was twice nominated for ...</td>\n",
       "      <td>PERSON</td>\n",
       "      <td>OTHER</td>\n",
       "      <td>nominated_for</td>\n",
       "      <td>PERSON</td>\n",
       "      <td>OTHER</td>\n",
       "    </tr>\n",
       "    <tr>\n",
       "      <th>3308</th>\n",
       "      <td>id-3385</td>\n",
       "      <td>nominated_for</td>\n",
       "      <td>He is best known for producing the critically ...</td>\n",
       "      <td>PERSON</td>\n",
       "      <td>OTHER</td>\n",
       "      <td>nominated_for</td>\n",
       "      <td>PERSON</td>\n",
       "      <td>OTHER</td>\n",
       "    </tr>\n",
       "    <tr>\n",
       "      <th>3309</th>\n",
       "      <td>id-3386</td>\n",
       "      <td>nominated_for</td>\n",
       "      <td>&lt;e1&gt;A Clockwork Orange&lt;/e1&gt; was critically acc...</td>\n",
       "      <td>PERSON</td>\n",
       "      <td>OTHER</td>\n",
       "      <td>nominated_for</td>\n",
       "      <td>PERSON</td>\n",
       "      <td>OTHER</td>\n",
       "    </tr>\n",
       "    <tr>\n",
       "      <th>3310</th>\n",
       "      <td>id-3387</td>\n",
       "      <td>nominated_for</td>\n",
       "      <td>डॉ. &lt;e1&gt;सर्वपल्ली राधाकृष्णन&lt;/e1&gt; को एक शिक्षक...</td>\n",
       "      <td>PERSON</td>\n",
       "      <td>OTHER</td>\n",
       "      <td>nominated_for</td>\n",
       "      <td>PERSON</td>\n",
       "      <td>OTHER</td>\n",
       "    </tr>\n",
       "  </tbody>\n",
       "</table>\n",
       "<p>3311 rows × 8 columns</p>\n",
       "</div>"
      ],
      "text/plain": [
       "           Id     Relation_x  \\\n",
       "0        id-0          child   \n",
       "1        id-1          child   \n",
       "2        id-2          child   \n",
       "3        id-3          child   \n",
       "4        id-4          child   \n",
       "...       ...            ...   \n",
       "3306  id-3383  nominated_for   \n",
       "3307  id-3384  nominated_for   \n",
       "3308  id-3385  nominated_for   \n",
       "3309  id-3386  nominated_for   \n",
       "3310  id-3387  nominated_for   \n",
       "\n",
       "                                               Sentence  NER1_x  NER2_x  \\\n",
       "0     খ্রি-মাং-স্লোন-র্ত্সানের মৃত্যুর পরেই ঝাংঝুং র...  PERSON  PERSON   \n",
       "1     <e1>John Stanislaus Joyce</e1> (4 July 1849 – ...  PERSON  PERSON   \n",
       "2     Dulquer Salman Telugu Movie: మలయాళ నటుడు <e1>మ...  PERSON  PERSON   \n",
       "3     <e1>Louise Taft</e1> would give birth to their...  PERSON  PERSON   \n",
       "4     (జన్మక్రమాన్ని బట్టి రాముడి తర్వాత భరతుడే. <e1...  PERSON  PERSON   \n",
       "...                                                 ...     ...     ...   \n",
       "3306  এছাড়া তিনি সিলভার লাইনিংস প্লেবুক চলচ্চিত্রের...  PERSON   OTHER   \n",
       "3307  <e1>Shen Congwen</e1> was twice nominated for ...  PERSON   OTHER   \n",
       "3308  He is best known for producing the critically ...  PERSON   OTHER   \n",
       "3309  <e1>A Clockwork Orange</e1> was critically acc...  PERSON   OTHER   \n",
       "3310  डॉ. <e1>सर्वपल्ली राधाकृष्णन</e1> को एक शिक्षक...  PERSON   OTHER   \n",
       "\n",
       "         Relation_y  NER1_y  NER2_y  \n",
       "0             child  PERSON  PERSON  \n",
       "1             child  PERSON  PERSON  \n",
       "2             child  PERSON  PERSON  \n",
       "3             child  PERSON  PERSON  \n",
       "4             child  PERSON  PERSON  \n",
       "...             ...     ...     ...  \n",
       "3306  nominated_for  PERSON   OTHER  \n",
       "3307  nominated_for  PERSON   OTHER  \n",
       "3308  nominated_for  PERSON   OTHER  \n",
       "3309  nominated_for  PERSON   OTHER  \n",
       "3310  nominated_for  PERSON   OTHER  \n",
       "\n",
       "[3311 rows x 8 columns]"
      ]
     },
     "execution_count": 56,
     "metadata": {},
     "output_type": "execute_result"
    }
   ],
   "source": [
    "df_res_bert"
   ]
  },
  {
   "cell_type": "code",
   "execution_count": null,
   "id": "75c55a3a-b707-48f8-b710-3d247bb52f4c",
   "metadata": {},
   "outputs": [],
   "source": []
  }
 ],
 "metadata": {
  "kernelspec": {
   "display_name": "Python 3 (ipykernel)",
   "language": "python",
   "name": "python3"
  },
  "language_info": {
   "codemirror_mode": {
    "name": "ipython",
    "version": 3
   },
   "file_extension": ".py",
   "mimetype": "text/x-python",
   "name": "python",
   "nbconvert_exporter": "python",
   "pygments_lexer": "ipython3",
   "version": "3.8.10"
  }
 },
 "nbformat": 4,
 "nbformat_minor": 5
}
